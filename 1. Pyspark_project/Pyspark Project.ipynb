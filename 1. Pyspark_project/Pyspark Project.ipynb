{
 "cells": [
  {
   "cell_type": "code",
   "execution_count": 0,
   "metadata": {
    "application/vnd.databricks.v1+cell": {
     "cellMetadata": {},
     "inputWidgets": {},
     "nuid": "0a314200-9585-404f-97b1-a7103a394af4",
     "showTitle": false,
     "title": ""
    }
   },
   "outputs": [],
   "source": [
    "## In this Proeject explore google play store data by Pyspark, and Sql."
   ]
  },
  {
   "cell_type": "code",
   "execution_count": 0,
   "metadata": {
    "application/vnd.databricks.v1+cell": {
     "cellMetadata": {
      "byteLimit": 2048000,
      "rowLimit": 10000
     },
     "inputWidgets": {},
     "nuid": "c9065cf8-00b4-4485-ab17-41880e5f14a1",
     "showTitle": false,
     "title": ""
    }
   },
   "outputs": [],
   "source": [
    "## Import libraries.\n",
    "import pyspark\n",
    "from pyspark.sql import SparkSession\n",
    "from pyspark.sql.types import StructType, StructField, StringType, IntegerType\n",
    "from pyspark.sql.functions import *"
   ]
  },
  {
   "cell_type": "code",
   "execution_count": 0,
   "metadata": {
    "application/vnd.databricks.v1+cell": {
     "cellMetadata": {
      "byteLimit": 2048000,
      "rowLimit": 10000
     },
     "inputWidgets": {},
     "nuid": "69513cf6-b110-4c4e-9e3c-363fbcf75f32",
     "showTitle": false,
     "title": ""
    }
   },
   "outputs": [],
   "source": [
    "df = spark.read.load('/FileStore/tables/googleplaystore.csv', format = 'csv', sep = ',', header = 'True', escape = '\"', inferschema = 'True')"
   ]
  },
  {
   "cell_type": "code",
   "execution_count": 0,
   "metadata": {
    "application/vnd.databricks.v1+cell": {
     "cellMetadata": {
      "byteLimit": 2048000,
      "rowLimit": 10000
     },
     "inputWidgets": {},
     "nuid": "d09d7cd9-41b2-4688-9dd4-a43bec91c13c",
     "showTitle": false,
     "title": ""
    }
   },
   "outputs": [
    {
     "output_type": "stream",
     "name": "stdout",
     "output_type": "stream",
     "text": [
      "Out[3]: 10841"
     ]
    }
   ],
   "source": [
    "df.count()"
   ]
  },
  {
   "cell_type": "code",
   "execution_count": 0,
   "metadata": {
    "application/vnd.databricks.v1+cell": {
     "cellMetadata": {
      "byteLimit": 2048000,
      "rowLimit": 10000
     },
     "inputWidgets": {},
     "nuid": "4bc05bcf-d061-4356-b1be-c0165e36738c",
     "showTitle": false,
     "title": ""
    }
   },
   "outputs": [
    {
     "output_type": "stream",
     "name": "stdout",
     "output_type": "stream",
     "text": [
      "+--------------------+--------------+------+-------+----+--------+----+-----+--------------+------------+---------------+-----------+------------+\n|                 App|      Category|Rating|Reviews|Size|Installs|Type|Price|Content Rating|      Genres|   Last Updated|Current Ver| Android Ver|\n+--------------------+--------------+------+-------+----+--------+----+-----+--------------+------------+---------------+-----------+------------+\n|Photo Editor & Ca...|ART_AND_DESIGN|   4.1|    159| 19M| 10,000+|Free|    0|      Everyone|Art & Design|January 7, 2018|      1.0.0|4.0.3 and up|\n+--------------------+--------------+------+-------+----+--------+----+-----+--------------+------------+---------------+-----------+------------+\nonly showing top 1 row\n\n"
     ]
    }
   ],
   "source": [
    "df.show(1)"
   ]
  },
  {
   "cell_type": "code",
   "execution_count": 0,
   "metadata": {
    "application/vnd.databricks.v1+cell": {
     "cellMetadata": {
      "byteLimit": 2048000,
      "rowLimit": 10000
     },
     "inputWidgets": {},
     "nuid": "2cc80265-6037-4471-9a67-534f0703103f",
     "showTitle": false,
     "title": ""
    }
   },
   "outputs": [
    {
     "output_type": "stream",
     "name": "stdout",
     "output_type": "stream",
     "text": [
      "root\n |-- App: string (nullable = true)\n |-- Category: string (nullable = true)\n |-- Rating: double (nullable = true)\n |-- Reviews: string (nullable = true)\n |-- Size: string (nullable = true)\n |-- Installs: string (nullable = true)\n |-- Type: string (nullable = true)\n |-- Price: string (nullable = true)\n |-- Content Rating: string (nullable = true)\n |-- Genres: string (nullable = true)\n |-- Last Updated: string (nullable = true)\n |-- Current Ver: string (nullable = true)\n |-- Android Ver: string (nullable = true)\n\n"
     ]
    }
   ],
   "source": [
    "df.printSchema()"
   ]
  },
  {
   "cell_type": "code",
   "execution_count": 0,
   "metadata": {
    "application/vnd.databricks.v1+cell": {
     "cellMetadata": {
      "byteLimit": 2048000,
      "rowLimit": 10000
     },
     "inputWidgets": {},
     "nuid": "2f0ee165-e8e4-47ac-8522-786f9a5a8009",
     "showTitle": false,
     "title": ""
    }
   },
   "outputs": [],
   "source": [
    "## Remove unnecessary columns\n",
    "df = df.drop(\"Size\", 'Content Rating', 'Last Updated', 'Android Ver')"
   ]
  },
  {
   "cell_type": "code",
   "execution_count": 0,
   "metadata": {
    "application/vnd.databricks.v1+cell": {
     "cellMetadata": {
      "byteLimit": 2048000,
      "rowLimit": 10000
     },
     "inputWidgets": {},
     "nuid": "e8faf873-6c34-45b8-b054-262d9e605a8a",
     "showTitle": false,
     "title": ""
    }
   },
   "outputs": [
    {
     "output_type": "stream",
     "name": "stdout",
     "output_type": "stream",
     "text": [
      "+--------------------+--------------+------+-------+--------+----+-----+--------------------+-----------+\n|                 App|      Category|Rating|Reviews|Installs|Type|Price|              Genres|Current Ver|\n+--------------------+--------------+------+-------+--------+----+-----+--------------------+-----------+\n|Photo Editor & Ca...|ART_AND_DESIGN|   4.1|    159| 10,000+|Free|    0|        Art & Design|      1.0.0|\n| Coloring book moana|ART_AND_DESIGN|   3.9|    967|500,000+|Free|    0|Art & Design;Pret...|      2.0.0|\n+--------------------+--------------+------+-------+--------+----+-----+--------------------+-----------+\nonly showing top 2 rows\n\n"
     ]
    }
   ],
   "source": [
    "df.show(2)"
   ]
  },
  {
   "cell_type": "code",
   "execution_count": 0,
   "metadata": {
    "application/vnd.databricks.v1+cell": {
     "cellMetadata": {
      "byteLimit": 2048000,
      "rowLimit": 10000
     },
     "inputWidgets": {},
     "nuid": "6a3ca5f5-ccbb-4394-8671-1d2c28c13ea3",
     "showTitle": false,
     "title": ""
    }
   },
   "outputs": [],
   "source": [
    "df = df.drop('Current Ver')"
   ]
  },
  {
   "cell_type": "code",
   "execution_count": 0,
   "metadata": {
    "application/vnd.databricks.v1+cell": {
     "cellMetadata": {
      "byteLimit": 2048000,
      "rowLimit": 10000
     },
     "inputWidgets": {},
     "nuid": "62bef3ae-f506-4b83-b15c-e4550a5372bc",
     "showTitle": false,
     "title": ""
    }
   },
   "outputs": [
    {
     "output_type": "stream",
     "name": "stdout",
     "output_type": "stream",
     "text": [
      "+--------------------+--------------+------+-------+--------+----+-----+--------------------+\n|                 App|      Category|Rating|Reviews|Installs|Type|Price|              Genres|\n+--------------------+--------------+------+-------+--------+----+-----+--------------------+\n|Photo Editor & Ca...|ART_AND_DESIGN|   4.1|    159| 10,000+|Free|    0|        Art & Design|\n| Coloring book moana|ART_AND_DESIGN|   3.9|    967|500,000+|Free|    0|Art & Design;Pret...|\n+--------------------+--------------+------+-------+--------+----+-----+--------------------+\nonly showing top 2 rows\n\n"
     ]
    }
   ],
   "source": [
    "df.show(2)"
   ]
  },
  {
   "cell_type": "code",
   "execution_count": 0,
   "metadata": {
    "application/vnd.databricks.v1+cell": {
     "cellMetadata": {
      "byteLimit": 2048000,
      "rowLimit": 10000
     },
     "inputWidgets": {},
     "nuid": "39b77ba9-a926-4b72-808d-2edbcf083f93",
     "showTitle": false,
     "title": ""
    }
   },
   "outputs": [
    {
     "output_type": "stream",
     "name": "stdout",
     "output_type": "stream",
     "text": [
      "root\n |-- App: string (nullable = true)\n |-- Category: string (nullable = true)\n |-- Rating: double (nullable = true)\n |-- Reviews: string (nullable = true)\n |-- Installs: string (nullable = true)\n |-- Type: string (nullable = true)\n |-- Price: string (nullable = true)\n |-- Genres: string (nullable = true)\n\n"
     ]
    }
   ],
   "source": [
    "df.printSchema()"
   ]
  },
  {
   "cell_type": "code",
   "execution_count": 0,
   "metadata": {
    "application/vnd.databricks.v1+cell": {
     "cellMetadata": {
      "byteLimit": 2048000,
      "rowLimit": 10000
     },
     "inputWidgets": {},
     "nuid": "5b3dc7a3-c7ff-4d7e-a642-c0d2bc5928ce",
     "showTitle": false,
     "title": ""
    }
   },
   "outputs": [],
   "source": [
    "## Import regex library to change structure\n",
    "from pyspark.sql.functions import regexp_replace, col\n",
    "\n",
    "df = df.withColumn(\"Reviews\", regexp_replace(col(\"Reviews\"), \"[^0-9]\", \"\").cast(IntegerType())) \\\n",
    "    .withColumn(\"Installs\", regexp_replace(col(\"Installs\"), \"[^0-9]\", \"\").cast(IntegerType())) \\\n",
    "    .withColumn(\"Price\", regexp_replace(col(\"Price\"), \"[$]\", \"\").cast(IntegerType()))\n",
    "\n",
    "df = df.withColumn(\"Installs\", regexp_replace(col(\"Installs\"), \"[^0-9]\", \"\").cast(IntegerType()))"
   ]
  },
  {
   "cell_type": "code",
   "execution_count": 0,
   "metadata": {
    "application/vnd.databricks.v1+cell": {
     "cellMetadata": {
      "byteLimit": 2048000,
      "rowLimit": 10000
     },
     "inputWidgets": {},
     "nuid": "9377f2dd-8995-40e3-b599-5256c7fa8402",
     "showTitle": false,
     "title": ""
    }
   },
   "outputs": [
    {
     "output_type": "stream",
     "name": "stdout",
     "output_type": "stream",
     "text": [
      "+--------------------+--------------+------+-------+--------+----+-----+--------------------+\n|                 App|      Category|Rating|Reviews|Installs|Type|Price|              Genres|\n+--------------------+--------------+------+-------+--------+----+-----+--------------------+\n|Photo Editor & Ca...|ART_AND_DESIGN|   4.1|    159|   10000|Free|    0|        Art & Design|\n| Coloring book moana|ART_AND_DESIGN|   3.9|    967|  500000|Free|    0|Art & Design;Pret...|\n|U Launcher Lite –...|ART_AND_DESIGN|   4.7|  87510| 5000000|Free|    0|        Art & Design|\n|Sketch - Draw & P...|ART_AND_DESIGN|   4.5| 215644|50000000|Free|    0|        Art & Design|\n|Pixel Draw - Numb...|ART_AND_DESIGN|   4.3|    967|  100000|Free|    0|Art & Design;Crea...|\n+--------------------+--------------+------+-------+--------+----+-----+--------------------+\nonly showing top 5 rows\n\n"
     ]
    }
   ],
   "source": [
    "df.show(5)"
   ]
  },
  {
   "cell_type": "code",
   "execution_count": 0,
   "metadata": {
    "application/vnd.databricks.v1+cell": {
     "cellMetadata": {
      "byteLimit": 2048000,
      "rowLimit": 10000
     },
     "inputWidgets": {},
     "nuid": "27beee49-d587-4ab2-8673-274f227eccdc",
     "showTitle": false,
     "title": ""
    }
   },
   "outputs": [],
   "source": [
    "df.createOrReplaceTempView(\"apps\")"
   ]
  },
  {
   "cell_type": "code",
   "execution_count": 0,
   "metadata": {
    "application/vnd.databricks.v1+cell": {
     "cellMetadata": {
      "byteLimit": 2048000,
      "implicitDf": true,
      "rowLimit": 10000
     },
     "inputWidgets": {},
     "nuid": "1f7874df-abbc-4a36-bcd7-464fde44557d",
     "showTitle": false,
     "title": ""
    }
   },
   "outputs": [
    {
     "output_type": "display_data",
     "data": {
      "text/html": [
       "<style scoped>\n",
       "  .table-result-container {\n",
       "    max-height: 300px;\n",
       "    overflow: auto;\n",
       "  }\n",
       "  table, th, td {\n",
       "    border: 1px solid black;\n",
       "    border-collapse: collapse;\n",
       "  }\n",
       "  th, td {\n",
       "    padding: 5px;\n",
       "  }\n",
       "  th {\n",
       "    text-align: left;\n",
       "  }\n",
       "</style><div class='table-result-container'><table class='table-result'><thead style='background-color: white'><tr><th>App</th><th>Category</th><th>Rating</th><th>Reviews</th><th>Installs</th><th>Type</th><th>Price</th><th>Genres</th></tr></thead><tbody><tr><td>Photo Editor & Candy Camera & Grid & ScrapBook</td><td>ART_AND_DESIGN</td><td>4.1</td><td>159</td><td>10000</td><td>Free</td><td>0</td><td>Art & Design</td></tr><tr><td>Coloring book moana</td><td>ART_AND_DESIGN</td><td>3.9</td><td>967</td><td>500000</td><td>Free</td><td>0</td><td>Art & Design;Pretend Play</td></tr><tr><td>U Launcher Lite – FREE Live Cool Themes, Hide Apps</td><td>ART_AND_DESIGN</td><td>4.7</td><td>87510</td><td>5000000</td><td>Free</td><td>0</td><td>Art & Design</td></tr><tr><td>Sketch - Draw & Paint</td><td>ART_AND_DESIGN</td><td>4.5</td><td>215644</td><td>50000000</td><td>Free</td><td>0</td><td>Art & Design</td></tr><tr><td>Pixel Draw - Number Art Coloring Book</td><td>ART_AND_DESIGN</td><td>4.3</td><td>967</td><td>100000</td><td>Free</td><td>0</td><td>Art & Design;Creativity</td></tr><tr><td>Paper flowers instructions</td><td>ART_AND_DESIGN</td><td>4.4</td><td>167</td><td>50000</td><td>Free</td><td>0</td><td>Art & Design</td></tr><tr><td>Smoke Effect Photo Maker - Smoke Editor</td><td>ART_AND_DESIGN</td><td>3.8</td><td>178</td><td>50000</td><td>Free</td><td>0</td><td>Art & Design</td></tr><tr><td>Infinite Painter</td><td>ART_AND_DESIGN</td><td>4.1</td><td>36815</td><td>1000000</td><td>Free</td><td>0</td><td>Art & Design</td></tr><tr><td>Garden Coloring Book</td><td>ART_AND_DESIGN</td><td>4.4</td><td>13791</td><td>1000000</td><td>Free</td><td>0</td><td>Art & Design</td></tr><tr><td>Kids Paint Free - Drawing Fun</td><td>ART_AND_DESIGN</td><td>4.7</td><td>121</td><td>10000</td><td>Free</td><td>0</td><td>Art & Design;Creativity</td></tr></tbody></table></div>"
      ]
     },
     "metadata": {
      "application/vnd.databricks.v1+output": {
       "addedWidgets": {},
       "aggData": [],
       "aggError": "",
       "aggOverflow": false,
       "aggSchema": [],
       "aggSeriesLimitReached": false,
       "aggType": "",
       "arguments": {},
       "columnCustomDisplayInfos": {},
       "data": [
        [
         "Photo Editor & Candy Camera & Grid & ScrapBook",
         "ART_AND_DESIGN",
         4.1,
         159,
         10000,
         "Free",
         0,
         "Art & Design"
        ],
        [
         "Coloring book moana",
         "ART_AND_DESIGN",
         3.9,
         967,
         500000,
         "Free",
         0,
         "Art & Design;Pretend Play"
        ],
        [
         "U Launcher Lite – FREE Live Cool Themes, Hide Apps",
         "ART_AND_DESIGN",
         4.7,
         87510,
         5000000,
         "Free",
         0,
         "Art & Design"
        ],
        [
         "Sketch - Draw & Paint",
         "ART_AND_DESIGN",
         4.5,
         215644,
         50000000,
         "Free",
         0,
         "Art & Design"
        ],
        [
         "Pixel Draw - Number Art Coloring Book",
         "ART_AND_DESIGN",
         4.3,
         967,
         100000,
         "Free",
         0,
         "Art & Design;Creativity"
        ],
        [
         "Paper flowers instructions",
         "ART_AND_DESIGN",
         4.4,
         167,
         50000,
         "Free",
         0,
         "Art & Design"
        ],
        [
         "Smoke Effect Photo Maker - Smoke Editor",
         "ART_AND_DESIGN",
         3.8,
         178,
         50000,
         "Free",
         0,
         "Art & Design"
        ],
        [
         "Infinite Painter",
         "ART_AND_DESIGN",
         4.1,
         36815,
         1000000,
         "Free",
         0,
         "Art & Design"
        ],
        [
         "Garden Coloring Book",
         "ART_AND_DESIGN",
         4.4,
         13791,
         1000000,
         "Free",
         0,
         "Art & Design"
        ],
        [
         "Kids Paint Free - Drawing Fun",
         "ART_AND_DESIGN",
         4.7,
         121,
         10000,
         "Free",
         0,
         "Art & Design;Creativity"
        ]
       ],
       "datasetInfos": [],
       "dbfsResultPath": null,
       "isJsonSchema": true,
       "metadata": {},
       "overflow": false,
       "plotOptions": {
        "customPlotOptions": {},
        "displayType": "table",
        "pivotAggregation": null,
        "pivotColumns": null,
        "xColumns": null,
        "yColumns": null
       },
       "removedWidgets": [],
       "schema": [
        {
         "metadata": "{}",
         "name": "App",
         "type": "\"string\""
        },
        {
         "metadata": "{}",
         "name": "Category",
         "type": "\"string\""
        },
        {
         "metadata": "{}",
         "name": "Rating",
         "type": "\"double\""
        },
        {
         "metadata": "{}",
         "name": "Reviews",
         "type": "\"integer\""
        },
        {
         "metadata": "{}",
         "name": "Installs",
         "type": "\"integer\""
        },
        {
         "metadata": "{}",
         "name": "Type",
         "type": "\"string\""
        },
        {
         "metadata": "{}",
         "name": "Price",
         "type": "\"integer\""
        },
        {
         "metadata": "{}",
         "name": "Genres",
         "type": "\"string\""
        }
       ],
       "type": "table"
      }
     },
     "output_type": "display_data"
    }
   ],
   "source": [
    "%sql select * from apps\n",
    "limit(10)"
   ]
  },
  {
   "cell_type": "code",
   "execution_count": 0,
   "metadata": {
    "application/vnd.databricks.v1+cell": {
     "cellMetadata": {
      "byteLimit": 2048000,
      "implicitDf": true,
      "rowLimit": 10000
     },
     "inputWidgets": {},
     "nuid": "a1a1f262-942f-4bc3-99f5-3bfe9d7d5d51",
     "showTitle": true,
     "title": "top reviews give to the apps"
    }
   },
   "outputs": [
    {
     "output_type": "display_data",
     "data": {
      "text/html": [
       "<style scoped>\n",
       "  .table-result-container {\n",
       "    max-height: 300px;\n",
       "    overflow: auto;\n",
       "  }\n",
       "  table, th, td {\n",
       "    border: 1px solid black;\n",
       "    border-collapse: collapse;\n",
       "  }\n",
       "  th, td {\n",
       "    padding: 5px;\n",
       "  }\n",
       "  th {\n",
       "    text-align: left;\n",
       "  }\n",
       "</style><div class='table-result-container'><table class='table-result'><thead style='background-color: white'><tr><th>App</th><th>sum(Reviews)</th></tr></thead><tbody><tr><td>Instagram</td><td>266241989</td></tr><tr><td>WhatsApp Messenger</td><td>207348304</td></tr><tr><td>Clash of Clans</td><td>179558781</td></tr><tr><td>Messenger – Text and Video Chat for Free</td><td>169932272</td></tr><tr><td>Subway Surfers</td><td>166331958</td></tr><tr><td>Candy Crush Saga</td><td>156993136</td></tr><tr><td>Facebook</td><td>156286514</td></tr><tr><td>8 Ball Pool</td><td>99386198</td></tr><tr><td>Clash Royale</td><td>92530298</td></tr><tr><td>Snapchat</td><td>68045010</td></tr></tbody></table></div>"
      ]
     },
     "metadata": {
      "application/vnd.databricks.v1+output": {
       "addedWidgets": {},
       "aggData": [],
       "aggError": "",
       "aggOverflow": false,
       "aggSchema": [],
       "aggSeriesLimitReached": false,
       "aggType": "",
       "arguments": {},
       "columnCustomDisplayInfos": {},
       "data": [
        [
         "Instagram",
         266241989
        ],
        [
         "WhatsApp Messenger",
         207348304
        ],
        [
         "Clash of Clans",
         179558781
        ],
        [
         "Messenger – Text and Video Chat for Free",
         169932272
        ],
        [
         "Subway Surfers",
         166331958
        ],
        [
         "Candy Crush Saga",
         156993136
        ],
        [
         "Facebook",
         156286514
        ],
        [
         "8 Ball Pool",
         99386198
        ],
        [
         "Clash Royale",
         92530298
        ],
        [
         "Snapchat",
         68045010
        ]
       ],
       "datasetInfos": [],
       "dbfsResultPath": null,
       "isJsonSchema": true,
       "metadata": {},
       "overflow": false,
       "plotOptions": {
        "customPlotOptions": {},
        "displayType": "table",
        "pivotAggregation": null,
        "pivotColumns": null,
        "xColumns": null,
        "yColumns": null
       },
       "removedWidgets": [],
       "schema": [
        {
         "metadata": "{}",
         "name": "App",
         "type": "\"string\""
        },
        {
         "metadata": "{\"__autoGeneratedAlias\":\"true\"}",
         "name": "sum(Reviews)",
         "type": "\"long\""
        }
       ],
       "type": "table"
      }
     },
     "output_type": "display_data"
    }
   ],
   "source": [
    "%sql select App, sum(Reviews) from apps\n",
    "group by 1\n",
    "order by 2 desc\n",
    "limit 10"
   ]
  },
  {
   "cell_type": "code",
   "execution_count": 0,
   "metadata": {
    "application/vnd.databricks.v1+cell": {
     "cellMetadata": {
      "byteLimit": 2048000,
      "implicitDf": true,
      "rowLimit": 10000
     },
     "inputWidgets": {},
     "nuid": "e9d7c3c2-15f9-4548-95fa-23923983a8a4",
     "showTitle": true,
     "title": "Top 10 install"
    }
   },
   "outputs": [
    {
     "output_type": "display_data",
     "data": {
      "text/html": [
       "<style scoped>\n",
       "  .table-result-container {\n",
       "    max-height: 300px;\n",
       "    overflow: auto;\n",
       "  }\n",
       "  table, th, td {\n",
       "    border: 1px solid black;\n",
       "    border-collapse: collapse;\n",
       "  }\n",
       "  th, td {\n",
       "    padding: 5px;\n",
       "  }\n",
       "  th {\n",
       "    text-align: left;\n",
       "  }\n",
       "</style><div class='table-result-container'><table class='table-result'><thead style='background-color: white'><tr><th>App</th><th>Type</th><th>sum(installs)</th></tr></thead><tbody><tr><td>Subway Surfers</td><td>Free</td><td>6000000000</td></tr><tr><td>Instagram</td><td>Free</td><td>4000000000</td></tr><tr><td>Google Drive</td><td>Free</td><td>4000000000</td></tr><tr><td>Hangouts</td><td>Free</td><td>4000000000</td></tr><tr><td>Google Photos</td><td>Free</td><td>4000000000</td></tr><tr><td>Google News</td><td>Free</td><td>4000000000</td></tr><tr><td>Candy Crush Saga</td><td>Free</td><td>3500000000</td></tr><tr><td>WhatsApp Messenger</td><td>Free</td><td>3000000000</td></tr><tr><td>Gmail</td><td>Free</td><td>3000000000</td></tr><tr><td>Temple Run 2</td><td>Free</td><td>3000000000</td></tr></tbody></table></div>"
      ]
     },
     "metadata": {
      "application/vnd.databricks.v1+output": {
       "addedWidgets": {},
       "aggData": [],
       "aggError": "",
       "aggOverflow": false,
       "aggSchema": [],
       "aggSeriesLimitReached": false,
       "aggType": "",
       "arguments": {},
       "columnCustomDisplayInfos": {},
       "data": [
        [
         "Subway Surfers",
         "Free",
         6000000000
        ],
        [
         "Instagram",
         "Free",
         4000000000
        ],
        [
         "Google Drive",
         "Free",
         4000000000
        ],
        [
         "Hangouts",
         "Free",
         4000000000
        ],
        [
         "Google Photos",
         "Free",
         4000000000
        ],
        [
         "Google News",
         "Free",
         4000000000
        ],
        [
         "Candy Crush Saga",
         "Free",
         3500000000
        ],
        [
         "WhatsApp Messenger",
         "Free",
         3000000000
        ],
        [
         "Gmail",
         "Free",
         3000000000
        ],
        [
         "Temple Run 2",
         "Free",
         3000000000
        ]
       ],
       "datasetInfos": [],
       "dbfsResultPath": null,
       "isJsonSchema": true,
       "metadata": {},
       "overflow": false,
       "plotOptions": {
        "customPlotOptions": {},
        "displayType": "table",
        "pivotAggregation": null,
        "pivotColumns": null,
        "xColumns": null,
        "yColumns": null
       },
       "removedWidgets": [],
       "schema": [
        {
         "metadata": "{}",
         "name": "App",
         "type": "\"string\""
        },
        {
         "metadata": "{}",
         "name": "Type",
         "type": "\"string\""
        },
        {
         "metadata": "{\"__autoGeneratedAlias\":\"true\"}",
         "name": "sum(installs)",
         "type": "\"long\""
        }
       ],
       "type": "table"
      }
     },
     "output_type": "display_data"
    }
   ],
   "source": [
    "%sql select App, Type,  sum(installs) from apps\n",
    "group by 1, 2 order by 3 desc\n",
    "limit(10)"
   ]
  },
  {
   "cell_type": "code",
   "execution_count": 0,
   "metadata": {
    "application/vnd.databricks.v1+cell": {
     "cellMetadata": {
      "byteLimit": 2048000,
      "implicitDf": true,
      "rowLimit": 10000
     },
     "inputWidgets": {},
     "nuid": "eac2a7b0-c0cc-4ef1-9710-d89163562e57",
     "showTitle": true,
     "title": "Category wise Distribution"
    }
   },
   "outputs": [
    {
     "output_type": "display_data",
     "data": {
      "text/html": [
       "<style scoped>\n",
       "  .table-result-container {\n",
       "    max-height: 300px;\n",
       "    overflow: auto;\n",
       "  }\n",
       "  table, th, td {\n",
       "    border: 1px solid black;\n",
       "    border-collapse: collapse;\n",
       "  }\n",
       "  th, td {\n",
       "    padding: 5px;\n",
       "  }\n",
       "  th {\n",
       "    text-align: left;\n",
       "  }\n",
       "</style><div class='table-result-container'><table class='table-result'><thead style='background-color: white'><tr><th>Category</th><th>sum(Installs)</th></tr></thead><tbody><tr><td>GAME</td><td>35086024415</td></tr><tr><td>COMMUNICATION</td><td>32647276251</td></tr><tr><td>PRODUCTIVITY</td><td>14176091369</td></tr><tr><td>SOCIAL</td><td>14069867902</td></tr><tr><td>TOOLS</td><td>11452771915</td></tr><tr><td>FAMILY</td><td>10258263505</td></tr><tr><td>PHOTOGRAPHY</td><td>10088247655</td></tr><tr><td>NEWS_AND_MAGAZINES</td><td>7496317760</td></tr><tr><td>TRAVEL_AND_LOCAL</td><td>6868887146</td></tr><tr><td>VIDEO_PLAYERS</td><td>6222002720</td></tr></tbody></table></div>"
      ]
     },
     "metadata": {
      "application/vnd.databricks.v1+output": {
       "addedWidgets": {},
       "aggData": [],
       "aggError": "",
       "aggOverflow": false,
       "aggSchema": [],
       "aggSeriesLimitReached": false,
       "aggType": "",
       "arguments": {},
       "columnCustomDisplayInfos": {},
       "data": [
        [
         "GAME",
         35086024415
        ],
        [
         "COMMUNICATION",
         32647276251
        ],
        [
         "PRODUCTIVITY",
         14176091369
        ],
        [
         "SOCIAL",
         14069867902
        ],
        [
         "TOOLS",
         11452771915
        ],
        [
         "FAMILY",
         10258263505
        ],
        [
         "PHOTOGRAPHY",
         10088247655
        ],
        [
         "NEWS_AND_MAGAZINES",
         7496317760
        ],
        [
         "TRAVEL_AND_LOCAL",
         6868887146
        ],
        [
         "VIDEO_PLAYERS",
         6222002720
        ]
       ],
       "datasetInfos": [],
       "dbfsResultPath": null,
       "isJsonSchema": true,
       "metadata": {},
       "overflow": false,
       "plotOptions": {
        "customPlotOptions": {},
        "displayType": "table",
        "pivotAggregation": null,
        "pivotColumns": null,
        "xColumns": null,
        "yColumns": null
       },
       "removedWidgets": [],
       "schema": [
        {
         "metadata": "{}",
         "name": "Category",
         "type": "\"string\""
        },
        {
         "metadata": "{\"__autoGeneratedAlias\":\"true\"}",
         "name": "sum(Installs)",
         "type": "\"long\""
        }
       ],
       "type": "table"
      }
     },
     "output_type": "display_data"
    }
   ],
   "source": [
    "%sql select Category, sum(Installs) from apps\n",
    "group by 1 order by 2 desc\n",
    "limit(10)"
   ]
  },
  {
   "cell_type": "code",
   "execution_count": 0,
   "metadata": {
    "application/vnd.databricks.v1+cell": {
     "cellMetadata": {
      "byteLimit": 2048000,
      "implicitDf": true,
      "rowLimit": 10000
     },
     "inputWidgets": {},
     "nuid": "8ce473c3-2e0e-49b7-a092-1c4d77148110",
     "showTitle": true,
     "title": "Top paid apps"
    }
   },
   "outputs": [
    {
     "output_type": "display_data",
     "data": {
      "text/html": [
       "<style scoped>\n",
       "  .table-result-container {\n",
       "    max-height: 300px;\n",
       "    overflow: auto;\n",
       "  }\n",
       "  table, th, td {\n",
       "    border: 1px solid black;\n",
       "    border-collapse: collapse;\n",
       "  }\n",
       "  th, td {\n",
       "    padding: 5px;\n",
       "  }\n",
       "  th {\n",
       "    text-align: left;\n",
       "  }\n",
       "</style><div class='table-result-container'><table class='table-result'><thead style='background-color: white'><tr><th>App</th><th>sum(Price)</th></tr></thead><tbody><tr><td>I'm Rich - Trump Edition</td><td>400</td></tr><tr><td>most expensive app (H)</td><td>399</td></tr><tr><td>I am rich(premium)</td><td>399</td></tr><tr><td>I Am Rich Premium</td><td>399</td></tr><tr><td>I am Rich Plus</td><td>399</td></tr><tr><td>I'm Rich/Eu sou Rico/أنا غني/我很有錢</td><td>399</td></tr><tr><td>I Am Rich Pro</td><td>399</td></tr><tr><td>I AM RICH PRO PLUS</td><td>399</td></tr><tr><td>I am Rich</td><td>399</td></tr><tr><td>I am Rich!</td><td>399</td></tr></tbody></table></div>"
      ]
     },
     "metadata": {
      "application/vnd.databricks.v1+output": {
       "addedWidgets": {},
       "aggData": [],
       "aggError": "",
       "aggOverflow": false,
       "aggSchema": [],
       "aggSeriesLimitReached": false,
       "aggType": "",
       "arguments": {},
       "columnCustomDisplayInfos": {},
       "data": [
        [
         "I'm Rich - Trump Edition",
         400
        ],
        [
         "most expensive app (H)",
         399
        ],
        [
         "I am rich(premium)",
         399
        ],
        [
         "I Am Rich Premium",
         399
        ],
        [
         "I am Rich Plus",
         399
        ],
        [
         "I'm Rich/Eu sou Rico/أنا غني/我很有錢",
         399
        ],
        [
         "I Am Rich Pro",
         399
        ],
        [
         "I AM RICH PRO PLUS",
         399
        ],
        [
         "I am Rich",
         399
        ],
        [
         "I am Rich!",
         399
        ]
       ],
       "datasetInfos": [],
       "dbfsResultPath": null,
       "isJsonSchema": true,
       "metadata": {},
       "overflow": false,
       "plotOptions": {
        "customPlotOptions": {},
        "displayType": "table",
        "pivotAggregation": null,
        "pivotColumns": null,
        "xColumns": null,
        "yColumns": null
       },
       "removedWidgets": [],
       "schema": [
        {
         "metadata": "{}",
         "name": "App",
         "type": "\"string\""
        },
        {
         "metadata": "{\"__autoGeneratedAlias\":\"true\"}",
         "name": "sum(Price)",
         "type": "\"long\""
        }
       ],
       "type": "table"
      }
     },
     "output_type": "display_data"
    }
   ],
   "source": [
    "%sql select App, sum(Price) from apps\n",
    "where Type = 'Paid'\n",
    "group by 1 order by 2 desc\n",
    "limit(10)"
   ]
  },
  {
   "cell_type": "code",
   "execution_count": 0,
   "metadata": {
    "application/vnd.databricks.v1+cell": {
     "cellMetadata": {},
     "inputWidgets": {},
     "nuid": "3df7f1b2-47a4-48de-8d90-b62c62f95fc2",
     "showTitle": false,
     "title": ""
    }
   },
   "outputs": [],
   "source": [
    "## Checking top 10 install apps, reviews, but also Category, and top paid apps."
   ]
  }
 ],
 "metadata": {
  "application/vnd.databricks.v1+notebook": {
   "dashboards": [],
   "language": "python",
   "notebookMetadata": {
    "mostRecentlyExecutedCommandWithImplicitDF": {
     "commandId": 2318015018980815,
     "dataframes": [
      "_sqldf"
     ]
    },
    "pythonIndentUnit": 4
   },
   "notebookName": "Pyspark Project",
   "widgets": {}
  }
 },
 "nbformat": 4,
 "nbformat_minor": 0
}
